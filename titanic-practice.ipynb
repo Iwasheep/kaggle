{
 "cells": [
  {
   "cell_type": "code",
   "execution_count": 1,
   "id": "37c9803f",
   "metadata": {
    "_cell_guid": "b1076dfc-b9ad-4769-8c92-a6c4dae69d19",
    "_uuid": "8f2839f25d086af736a60e9eeb907d3b93b6e0e5",
    "execution": {
     "iopub.execute_input": "2022-01-30T06:57:21.045502Z",
     "iopub.status.busy": "2022-01-30T06:57:21.043639Z",
     "iopub.status.idle": "2022-01-30T06:57:23.323408Z",
     "shell.execute_reply": "2022-01-30T06:57:23.324168Z",
     "shell.execute_reply.started": "2022-01-30T06:34:33.971378Z"
    },
    "papermill": {
     "duration": 2.319866,
     "end_time": "2022-01-30T06:57:23.324597",
     "exception": false,
     "start_time": "2022-01-30T06:57:21.004731",
     "status": "completed"
    },
    "tags": []
   },
   "outputs": [
    {
     "name": "stdout",
     "output_type": "stream",
     "text": [
      "/kaggle/input/titanic/train.csv\n",
      "/kaggle/input/titanic/test.csv\n",
      "/kaggle/input/titanic/gender_submission.csv\n"
     ]
    }
   ],
   "source": [
    "# This Python 3 environment comes with many helpful analytics libraries installed\n",
    "# It is defined by the kaggle/python Docker image: https://github.com/kaggle/docker-python\n",
    "# For example, here's several helpful packages to load\n",
    "\n",
    "import numpy as np # linear algebra\n",
    "import pandas as pd # data processing, CSV file I/O (e.g. pd.read_csv)\n",
    "import pandas_profiling\n",
    "import matplotlib.pyplot as plt\n",
    "import seaborn as sns\n",
    "\n",
    "# Input data files are available in the read-only \"../input/\" directory\n",
    "# For example, running this (by clicking run or pressing Shift+Enter) will list all files under the input directory\n",
    "\n",
    "import os\n",
    "for dirname, _, filenames in os.walk('/kaggle/input'):\n",
    "    for filename in filenames:\n",
    "        print(os.path.join(dirname, filename))\n",
    "        \n",
    "# You can write up to 20GB to the current directory (/kaggle/working/) that gets preserved as output when you create a version using \"Save & Run All\" \n",
    "# You can also write temporary files to /kaggle/temp/, but they won't be saved outside of the current session"
   ]
  },
  {
   "cell_type": "code",
   "execution_count": 2,
   "id": "8c58f716",
   "metadata": {
    "execution": {
     "iopub.execute_input": "2022-01-30T06:57:23.394452Z",
     "iopub.status.busy": "2022-01-30T06:57:23.392186Z",
     "iopub.status.idle": "2022-01-30T06:57:23.431571Z",
     "shell.execute_reply": "2022-01-30T06:57:23.430789Z",
     "shell.execute_reply.started": "2022-01-30T06:34:36.192393Z"
    },
    "papermill": {
     "duration": 0.07402,
     "end_time": "2022-01-30T06:57:23.431750",
     "exception": false,
     "start_time": "2022-01-30T06:57:23.357730",
     "status": "completed"
    },
    "tags": []
   },
   "outputs": [],
   "source": [
    "train = pd.read_csv('../input/titanic/train.csv')\n",
    "test = pd.read_csv(\"../input/titanic/test.csv\")\n",
    "gender_submission = pd.read_csv(\"../input/titanic/gender_submission.csv\")"
   ]
  },
  {
   "cell_type": "code",
   "execution_count": 3,
   "id": "0440184c",
   "metadata": {
    "execution": {
     "iopub.execute_input": "2022-01-30T06:57:23.502969Z",
     "iopub.status.busy": "2022-01-30T06:57:23.502299Z",
     "iopub.status.idle": "2022-01-30T06:57:23.521748Z",
     "shell.execute_reply": "2022-01-30T06:57:23.521134Z",
     "shell.execute_reply.started": "2022-01-30T06:34:36.240366Z"
    },
    "papermill": {
     "duration": 0.058418,
     "end_time": "2022-01-30T06:57:23.521908",
     "exception": false,
     "start_time": "2022-01-30T06:57:23.463490",
     "status": "completed"
    },
    "tags": []
   },
   "outputs": [
    {
     "data": {
      "text/html": [
       "<div>\n",
       "<style scoped>\n",
       "    .dataframe tbody tr th:only-of-type {\n",
       "        vertical-align: middle;\n",
       "    }\n",
       "\n",
       "    .dataframe tbody tr th {\n",
       "        vertical-align: top;\n",
       "    }\n",
       "\n",
       "    .dataframe thead th {\n",
       "        text-align: right;\n",
       "    }\n",
       "</style>\n",
       "<table border=\"1\" class=\"dataframe\">\n",
       "  <thead>\n",
       "    <tr style=\"text-align: right;\">\n",
       "      <th></th>\n",
       "      <th>PassengerId</th>\n",
       "      <th>Survived</th>\n",
       "      <th>Pclass</th>\n",
       "      <th>Name</th>\n",
       "      <th>Sex</th>\n",
       "      <th>Age</th>\n",
       "      <th>SibSp</th>\n",
       "      <th>Parch</th>\n",
       "      <th>Ticket</th>\n",
       "      <th>Fare</th>\n",
       "      <th>Cabin</th>\n",
       "      <th>Embarked</th>\n",
       "    </tr>\n",
       "  </thead>\n",
       "  <tbody>\n",
       "    <tr>\n",
       "      <th>0</th>\n",
       "      <td>1</td>\n",
       "      <td>0</td>\n",
       "      <td>3</td>\n",
       "      <td>Braund, Mr. Owen Harris</td>\n",
       "      <td>male</td>\n",
       "      <td>22.0</td>\n",
       "      <td>1</td>\n",
       "      <td>0</td>\n",
       "      <td>A/5 21171</td>\n",
       "      <td>7.2500</td>\n",
       "      <td>NaN</td>\n",
       "      <td>S</td>\n",
       "    </tr>\n",
       "    <tr>\n",
       "      <th>1</th>\n",
       "      <td>2</td>\n",
       "      <td>1</td>\n",
       "      <td>1</td>\n",
       "      <td>Cumings, Mrs. John Bradley (Florence Briggs Th...</td>\n",
       "      <td>female</td>\n",
       "      <td>38.0</td>\n",
       "      <td>1</td>\n",
       "      <td>0</td>\n",
       "      <td>PC 17599</td>\n",
       "      <td>71.2833</td>\n",
       "      <td>C85</td>\n",
       "      <td>C</td>\n",
       "    </tr>\n",
       "    <tr>\n",
       "      <th>2</th>\n",
       "      <td>3</td>\n",
       "      <td>1</td>\n",
       "      <td>3</td>\n",
       "      <td>Heikkinen, Miss. Laina</td>\n",
       "      <td>female</td>\n",
       "      <td>26.0</td>\n",
       "      <td>0</td>\n",
       "      <td>0</td>\n",
       "      <td>STON/O2. 3101282</td>\n",
       "      <td>7.9250</td>\n",
       "      <td>NaN</td>\n",
       "      <td>S</td>\n",
       "    </tr>\n",
       "    <tr>\n",
       "      <th>3</th>\n",
       "      <td>4</td>\n",
       "      <td>1</td>\n",
       "      <td>1</td>\n",
       "      <td>Futrelle, Mrs. Jacques Heath (Lily May Peel)</td>\n",
       "      <td>female</td>\n",
       "      <td>35.0</td>\n",
       "      <td>1</td>\n",
       "      <td>0</td>\n",
       "      <td>113803</td>\n",
       "      <td>53.1000</td>\n",
       "      <td>C123</td>\n",
       "      <td>S</td>\n",
       "    </tr>\n",
       "    <tr>\n",
       "      <th>4</th>\n",
       "      <td>5</td>\n",
       "      <td>0</td>\n",
       "      <td>3</td>\n",
       "      <td>Allen, Mr. William Henry</td>\n",
       "      <td>male</td>\n",
       "      <td>35.0</td>\n",
       "      <td>0</td>\n",
       "      <td>0</td>\n",
       "      <td>373450</td>\n",
       "      <td>8.0500</td>\n",
       "      <td>NaN</td>\n",
       "      <td>S</td>\n",
       "    </tr>\n",
       "  </tbody>\n",
       "</table>\n",
       "</div>"
      ],
      "text/plain": [
       "   PassengerId  Survived  Pclass  \\\n",
       "0            1         0       3   \n",
       "1            2         1       1   \n",
       "2            3         1       3   \n",
       "3            4         1       1   \n",
       "4            5         0       3   \n",
       "\n",
       "                                                Name     Sex   Age  SibSp  \\\n",
       "0                            Braund, Mr. Owen Harris    male  22.0      1   \n",
       "1  Cumings, Mrs. John Bradley (Florence Briggs Th...  female  38.0      1   \n",
       "2                             Heikkinen, Miss. Laina  female  26.0      0   \n",
       "3       Futrelle, Mrs. Jacques Heath (Lily May Peel)  female  35.0      1   \n",
       "4                           Allen, Mr. William Henry    male  35.0      0   \n",
       "\n",
       "   Parch            Ticket     Fare Cabin Embarked  \n",
       "0      0         A/5 21171   7.2500   NaN        S  \n",
       "1      0          PC 17599  71.2833   C85        C  \n",
       "2      0  STON/O2. 3101282   7.9250   NaN        S  \n",
       "3      0            113803  53.1000  C123        S  \n",
       "4      0            373450   8.0500   NaN        S  "
      ]
     },
     "execution_count": 3,
     "metadata": {},
     "output_type": "execute_result"
    }
   ],
   "source": [
    "train.head()\n",
    "# train.profile_report()"
   ]
  },
  {
   "cell_type": "code",
   "execution_count": 4,
   "id": "44f90a7f",
   "metadata": {
    "execution": {
     "iopub.execute_input": "2022-01-30T06:57:23.588519Z",
     "iopub.status.busy": "2022-01-30T06:57:23.587765Z",
     "iopub.status.idle": "2022-01-30T06:57:23.590890Z",
     "shell.execute_reply": "2022-01-30T06:57:23.591448Z",
     "shell.execute_reply.started": "2022-01-30T06:34:36.268776Z"
    },
    "papermill": {
     "duration": 0.037856,
     "end_time": "2022-01-30T06:57:23.591638",
     "exception": false,
     "start_time": "2022-01-30T06:57:23.553782",
     "status": "completed"
    },
    "tags": []
   },
   "outputs": [],
   "source": [
    "# test.profile_report()"
   ]
  },
  {
   "cell_type": "code",
   "execution_count": 5,
   "id": "23a17a02",
   "metadata": {
    "execution": {
     "iopub.execute_input": "2022-01-30T06:57:23.665638Z",
     "iopub.status.busy": "2022-01-30T06:57:23.664936Z",
     "iopub.status.idle": "2022-01-30T06:57:24.104479Z",
     "shell.execute_reply": "2022-01-30T06:57:24.104947Z",
     "shell.execute_reply.started": "2022-01-30T06:34:36.276606Z"
    },
    "papermill": {
     "duration": 0.482429,
     "end_time": "2022-01-30T06:57:24.105126",
     "exception": false,
     "start_time": "2022-01-30T06:57:23.622697",
     "status": "completed"
    },
    "tags": []
   },
   "outputs": [
    {
     "data": {
      "text/plain": [
       "<matplotlib.legend.Legend at 0x7f4ef4824a10>"
      ]
     },
     "execution_count": 5,
     "metadata": {},
     "output_type": "execute_result"
    },
    {
     "data": {
      "image/png": "[encoded data removed]",
      "text/plain": [
       "<Figure size 432x288 with 1 Axes>"
      ]
     },
     "metadata": {
      "needs_background": "light"
     },
     "output_type": "display_data"
    }
   ],
   "source": [
    "plt.hist(train.loc[train[\"Survived\"] == 0, \"Age\"].dropna(), bins=30, alpha=0.5, label=\"0\")\n",
    "plt.hist(train.loc[train[\"Survived\"] == 1, \"Age\"].dropna(), bins=30, alpha=0.5, label=\"1\")\n",
    "plt.xlabel(\"Age\")\n",
    "plt.ylabel(\"Count\")\n",
    "plt.legend(title=\"Survived\")"
   ]
  },
  {
   "cell_type": "code",
   "execution_count": 6,
   "id": "c8861868",
   "metadata": {
    "execution": {
     "iopub.execute_input": "2022-01-30T06:57:24.197749Z",
     "iopub.status.busy": "2022-01-30T06:57:24.194522Z",
     "iopub.status.idle": "2022-01-30T06:57:24.498587Z",
     "shell.execute_reply": "2022-01-30T06:57:24.499066Z",
     "shell.execute_reply.started": "2022-01-30T06:34:36.780389Z"
    },
    "papermill": {
     "duration": 0.362009,
     "end_time": "2022-01-30T06:57:24.499275",
     "exception": false,
     "start_time": "2022-01-30T06:57:24.137266",
     "status": "completed"
    },
    "tags": []
   },
   "outputs": [
    {
     "data": {
      "text/plain": [
       "<matplotlib.legend.Legend at 0x7f4eec524110>"
      ]
     },
     "execution_count": 6,
     "metadata": {},
     "output_type": "execute_result"
    },
    {
     "data": {
      "image/png": "[encoded data removed]",
      "text/plain": [
       "<Figure size 432x288 with 1 Axes>"
      ]
     },
     "metadata": {
      "needs_background": "light"
     },
     "output_type": "display_data"
    }
   ],
   "source": [
    "plt.hist(train.loc[train[\"Survived\"]==0, \"SibSp\"].dropna(),range=(0,8), bins=10, alpha=0.5, label=\"0\")\n",
    "plt.hist(train.loc[train[\"Survived\"]==1, \"SibSp\"].dropna(),range=(0,8), bins=10, alpha=0.5, label=\"1\")\n",
    "plt.xlabel(\"Sibsp\")\n",
    "plt.ylabel(\"Survived\")\n",
    "plt.legend(title=\"Survived\")"
   ]
  },
  {
   "cell_type": "code",
   "execution_count": 7,
   "id": "5986b816",
   "metadata": {
    "execution": {
     "iopub.execute_input": "2022-01-30T06:57:24.571313Z",
     "iopub.status.busy": "2022-01-30T06:57:24.570580Z",
     "iopub.status.idle": "2022-01-30T06:57:24.860019Z",
     "shell.execute_reply": "2022-01-30T06:57:24.860596Z",
     "shell.execute_reply.started": "2022-01-30T06:35:02.311966Z"
    },
    "papermill": {
     "duration": 0.327423,
     "end_time": "2022-01-30T06:57:24.860779",
     "exception": false,
     "start_time": "2022-01-30T06:57:24.533356",
     "status": "completed"
    },
    "tags": []
   },
   "outputs": [
    {
     "data": {
      "text/plain": [
       "<matplotlib.legend.Legend at 0x7f4eec426150>"
      ]
     },
     "execution_count": 7,
     "metadata": {},
     "output_type": "execute_result"
    },
    {
     "data": {
      "image/png": "[encoded data removed]",
      "text/plain": [
       "<Figure size 432x288 with 1 Axes>"
      ]
     },
     "metadata": {
      "needs_background": "light"
     },
     "output_type": "display_data"
    }
   ],
   "source": [
    "sns.countplot(x=\"SibSp\", hue=\"Survived\", data=train)\n",
    "plt.legend(loc=\"upper right\", title=\"Survived\")"
   ]
  },
  {
   "cell_type": "code",
   "execution_count": 8,
   "id": "c5b4243b",
   "metadata": {
    "execution": {
     "iopub.execute_input": "2022-01-30T06:57:24.934824Z",
     "iopub.status.busy": "2022-01-30T06:57:24.934106Z",
     "iopub.status.idle": "2022-01-30T06:57:26.845682Z",
     "shell.execute_reply": "2022-01-30T06:57:26.846285Z",
     "shell.execute_reply.started": "2022-01-30T06:35:07.449507Z"
    },
    "papermill": {
     "duration": 1.950099,
     "end_time": "2022-01-30T06:57:26.846469",
     "exception": false,
     "start_time": "2022-01-30T06:57:24.896370",
     "status": "completed"
    },
    "tags": []
   },
   "outputs": [
    {
     "data": {
      "text/plain": [
       "<matplotlib.legend.Legend at 0x7f4eec2cd090>"
      ]
     },
     "execution_count": 8,
     "metadata": {},
     "output_type": "execute_result"
    },
    {
     "data": {
      "image/png": "[encoded data removed]",
      "text/plain": [
       "<Figure size 432x288 with 1 Axes>"
      ]
     },
     "metadata": {
      "needs_background": "light"
     },
     "output_type": "display_data"
    }
   ],
   "source": [
    "sns.countplot(x=\"Age\", hue=\"Survived\", data=train)\n",
    "plt.legend(loc=\"upper right\", title=\"Survived\")"
   ]
  },
  {
   "cell_type": "code",
   "execution_count": 9,
   "id": "b5794129",
   "metadata": {
    "execution": {
     "iopub.execute_input": "2022-01-30T06:57:26.921174Z",
     "iopub.status.busy": "2022-01-30T06:57:26.920505Z",
     "iopub.status.idle": "2022-01-30T06:57:27.187905Z",
     "shell.execute_reply": "2022-01-30T06:57:27.187325Z",
     "shell.execute_reply.started": "2022-01-30T06:35:14.615392Z"
    },
    "papermill": {
     "duration": 0.305896,
     "end_time": "2022-01-30T06:57:27.188070",
     "exception": false,
     "start_time": "2022-01-30T06:57:26.882174",
     "status": "completed"
    },
    "tags": []
   },
   "outputs": [
    {
     "data": {
      "text/plain": [
       "<matplotlib.legend.Legend at 0x7f4eebfd7bd0>"
      ]
     },
     "execution_count": 9,
     "metadata": {},
     "output_type": "execute_result"
    },
    {
     "data": {
      "image/png": "[encoded data removed]",
      "text/plain": [
       "<Figure size 432x288 with 1 Axes>"
      ]
     },
     "metadata": {
      "needs_background": "light"
     },
     "output_type": "display_data"
    }
   ],
   "source": [
    "sns.countplot(x=\"Parch\", hue=\"Survived\", data=train)\n",
    "plt.legend(loc=\"upper right\", title=\"Survived\")"
   ]
  },
  {
   "cell_type": "code",
   "execution_count": 10,
   "id": "c81b8a14",
   "metadata": {
    "execution": {
     "iopub.execute_input": "2022-01-30T06:57:27.270202Z",
     "iopub.status.busy": "2022-01-30T06:57:27.269398Z",
     "iopub.status.idle": "2022-01-30T06:57:27.633802Z",
     "shell.execute_reply": "2022-01-30T06:57:27.634404Z",
     "shell.execute_reply.started": "2022-01-30T06:35:20.173766Z"
    },
    "papermill": {
     "duration": 0.40939,
     "end_time": "2022-01-30T06:57:27.634589",
     "exception": false,
     "start_time": "2022-01-30T06:57:27.225199",
     "status": "completed"
    },
    "tags": []
   },
   "outputs": [
    {
     "data": {
      "text/plain": [
       "(10.0, 250.0)"
      ]
     },
     "execution_count": 10,
     "metadata": {},
     "output_type": "execute_result"
    },
    {
     "data": {
      "image/png": "[encoded data removed]",
      "text/plain": [
       "<Figure size 432x288 with 1 Axes>"
      ]
     },
     "metadata": {
      "needs_background": "light"
     },
     "output_type": "display_data"
    }
   ],
   "source": [
    "plt.hist(train.loc[train[\"Survived\"]==0, \"Fare\"].dropna(), range=(0, 250), bins=25, alpha=0.5, label=\"0\")\n",
    "plt.hist(train.loc[train[\"Survived\"]==1, \"Fare\"].dropna(), range=(0, 250), bins=25, alpha=0.5, label=\"1\")\n",
    "plt.xlabel(\"Fare\")\n",
    "plt.ylabel(\"count\")\n",
    "plt.legend(title=\"Survivied\")\n",
    "plt.xlim(10, 250)"
   ]
  },
  {
   "cell_type": "code",
   "execution_count": 11,
   "id": "f9856537",
   "metadata": {
    "execution": {
     "iopub.execute_input": "2022-01-30T06:57:27.720077Z",
     "iopub.status.busy": "2022-01-30T06:57:27.718916Z",
     "iopub.status.idle": "2022-01-30T06:57:28.092177Z",
     "shell.execute_reply": "2022-01-30T06:57:28.091580Z",
     "shell.execute_reply.started": "2022-01-30T06:35:26.558226Z"
    },
    "papermill": {
     "duration": 0.419818,
     "end_time": "2022-01-30T06:57:28.092338",
     "exception": false,
     "start_time": "2022-01-30T06:57:27.672520",
     "status": "completed"
    },
    "tags": []
   },
   "outputs": [
    {
     "data": {
      "text/plain": [
       "(-5.0, 250.0)"
      ]
     },
     "execution_count": 11,
     "metadata": {},
     "output_type": "execute_result"
    },
    {
     "data": {
      "image/png": "[encoded data removed]",
      "text/plain": [
       "<Figure size 432x288 with 1 Axes>"
      ]
     },
     "metadata": {
      "needs_background": "light"
     },
     "output_type": "display_data"
    }
   ],
   "source": [
    "plt.hist(train.loc[train[\"Survived\"]==0, \"Fare\"].dropna(),range=(0,250), bins=25, alpha=0.5, label=\"0\")\n",
    "plt.hist(train.loc[train[\"Survived\"]==1, \"Fare\"].dropna(),range=(0,250), bins=25, alpha=0.5, label=\"1\")\n",
    "plt.xlabel(\"Fare\")\n",
    "plt.ylabel(\"count\")\n",
    "plt.legend(title=\"Survivied\")\n",
    "plt.xlim(-5, 250)"
   ]
  },
  {
   "cell_type": "code",
   "execution_count": 12,
   "id": "f2983d86",
   "metadata": {
    "execution": {
     "iopub.execute_input": "2022-01-30T06:57:28.179550Z",
     "iopub.status.busy": "2022-01-30T06:57:28.178810Z",
     "iopub.status.idle": "2022-01-30T06:57:28.396448Z",
     "shell.execute_reply": "2022-01-30T06:57:28.395719Z",
     "shell.execute_reply.started": "2021-11-18T14:35:32.146697Z"
    },
    "papermill": {
     "duration": 0.265056,
     "end_time": "2022-01-30T06:57:28.396599",
     "exception": false,
     "start_time": "2022-01-30T06:57:28.131543",
     "status": "completed"
    },
    "tags": []
   },
   "outputs": [
    {
     "data": {
      "text/plain": [
       "<AxesSubplot:xlabel='HighFare', ylabel='count'>"
      ]
     },
     "execution_count": 12,
     "metadata": {},
     "output_type": "execute_result"
    },
    {
     "data": {
      "image/png": "[encoded data removed]",
      "text/plain": [
       "<Figure size 432x288 with 1 Axes>"
      ]
     },
     "metadata": {
      "needs_background": "light"
     },
     "output_type": "display_data"
    }
   ],
   "source": [
    "subset=train.loc[:,[\"Survived\", \"Fare\"]]\n",
    "subset[\"HighFare\"] = 0\n",
    "subset.loc[subset[\"Fare\"]<10, \"HighFare\"] = 1\n",
    "sns.countplot(x=\"HighFare\", hue=\"Survived\", data=subset)"
   ]
  },
  {
   "cell_type": "code",
   "execution_count": 13,
   "id": "ab6c8ebb",
   "metadata": {
    "execution": {
     "iopub.execute_input": "2022-01-30T06:57:28.484645Z",
     "iopub.status.busy": "2022-01-30T06:57:28.483952Z",
     "iopub.status.idle": "2022-01-30T06:57:28.711895Z",
     "shell.execute_reply": "2022-01-30T06:57:28.712441Z",
     "shell.execute_reply.started": "2021-11-18T14:35:32.368412Z"
    },
    "papermill": {
     "duration": 0.270849,
     "end_time": "2022-01-30T06:57:28.712626",
     "exception": false,
     "start_time": "2022-01-30T06:57:28.441777",
     "status": "completed"
    },
    "tags": []
   },
   "outputs": [
    {
     "data": {
      "text/plain": [
       "<matplotlib.legend.Legend at 0x7f4eebd891d0>"
      ]
     },
     "execution_count": 13,
     "metadata": {},
     "output_type": "execute_result"
    },
    {
     "data": {
      "image/png": "[encoded data removed]",
      "text/plain": [
       "<Figure size 432x288 with 1 Axes>"
      ]
     },
     "metadata": {
      "needs_background": "light"
     },
     "output_type": "display_data"
    }
   ],
   "source": [
    "sns.countplot(x=\"Pclass\", hue=\"Survived\", data=train)\n",
    "plt.legend(loc=\"upper right\", title=\"Survived\")"
   ]
  },
  {
   "cell_type": "code",
   "execution_count": 14,
   "id": "6ac69db1",
   "metadata": {
    "execution": {
     "iopub.execute_input": "2022-01-30T06:57:28.797262Z",
     "iopub.status.busy": "2022-01-30T06:57:28.796522Z",
     "iopub.status.idle": "2022-01-30T06:57:29.014620Z",
     "shell.execute_reply": "2022-01-30T06:57:29.013524Z",
     "shell.execute_reply.started": "2021-11-18T14:35:32.60178Z"
    },
    "papermill": {
     "duration": 0.261944,
     "end_time": "2022-01-30T06:57:29.014816",
     "exception": false,
     "start_time": "2022-01-30T06:57:28.752872",
     "status": "completed"
    },
    "tags": []
   },
   "outputs": [
    {
     "data": {
      "text/plain": [
       "<AxesSubplot:xlabel='Sex', ylabel='count'>"
      ]
     },
     "execution_count": 14,
     "metadata": {},
     "output_type": "execute_result"
    },
    {
     "data": {
      "image/png": "[encoded data removed]",
      "text/plain": [
       "<Figure size 432x288 with 1 Axes>"
      ]
     },
     "metadata": {
      "needs_background": "light"
     },
     "output_type": "display_data"
    }
   ],
   "source": [
    "sns.countplot(x=\"Sex\", hue=\"Survived\", data=train)"
   ]
  },
  {
   "cell_type": "code",
   "execution_count": 15,
   "id": "8c617ecd",
   "metadata": {
    "execution": {
     "iopub.execute_input": "2022-01-30T06:57:29.141005Z",
     "iopub.status.busy": "2022-01-30T06:57:29.140170Z",
     "iopub.status.idle": "2022-01-30T06:57:29.366919Z",
     "shell.execute_reply": "2022-01-30T06:57:29.366286Z",
     "shell.execute_reply.started": "2021-11-18T14:35:32.816604Z"
    },
    "papermill": {
     "duration": 0.308119,
     "end_time": "2022-01-30T06:57:29.367062",
     "exception": false,
     "start_time": "2022-01-30T06:57:29.058943",
     "status": "completed"
    },
    "tags": []
   },
   "outputs": [
    {
     "data": {
      "text/plain": [
       "<AxesSubplot:xlabel='Embarked', ylabel='count'>"
      ]
     },
     "execution_count": 15,
     "metadata": {},
     "output_type": "execute_result"
    },
    {
     "data": {
      "image/png": "[encoded data removed]",
      "text/plain": [
       "<Figure size 432x288 with 1 Axes>"
      ]
     },
     "metadata": {
      "needs_background": "light"
     },
     "output_type": "display_data"
    }
   ],
   "source": [
    "sns.countplot(x=\"Embarked\", hue=\"Survived\", data=train)"
   ]
  },
  {
   "cell_type": "code",
   "execution_count": 16,
   "id": "fe255cbc",
   "metadata": {
    "execution": {
     "iopub.execute_input": "2022-01-30T06:57:29.483092Z",
     "iopub.status.busy": "2022-01-30T06:57:29.482270Z",
     "iopub.status.idle": "2022-01-30T06:57:29.722295Z",
     "shell.execute_reply": "2022-01-30T06:57:29.721596Z",
     "shell.execute_reply.started": "2021-11-18T14:35:33.056723Z"
    },
    "papermill": {
     "duration": 0.312188,
     "end_time": "2022-01-30T06:57:29.722447",
     "exception": false,
     "start_time": "2022-01-30T06:57:29.410259",
     "status": "completed"
    },
    "tags": []
   },
   "outputs": [
    {
     "data": {
      "image/png": "[encoded data removed]",
      "text/plain": [
       "<Figure size 432x288 with 1 Axes>"
      ]
     },
     "metadata": {
      "needs_background": "light"
     },
     "output_type": "display_data"
    }
   ],
   "source": [
    "plt.scatter(x=train[\"Age\"], y=train[\"Survived\"], s=1, alpha=0.5, color=\"red\")\n",
    "plt.title(\"Survived\")\n",
    "plt.xlabel(\"Age\")\n",
    "plt.ylabel(\"Survived\")\n",
    "plt.grid(True)"
   ]
  },
  {
   "cell_type": "code",
   "execution_count": 17,
   "id": "6a49e76d",
   "metadata": {
    "execution": {
     "iopub.execute_input": "2022-01-30T06:57:29.820008Z",
     "iopub.status.busy": "2022-01-30T06:57:29.818956Z",
     "iopub.status.idle": "2022-01-30T06:57:29.825908Z",
     "shell.execute_reply": "2022-01-30T06:57:29.826449Z",
     "shell.execute_reply.started": "2021-11-18T14:35:33.305468Z"
    },
    "papermill": {
     "duration": 0.060627,
     "end_time": "2022-01-30T06:57:29.826640",
     "exception": false,
     "start_time": "2022-01-30T06:57:29.766013",
     "status": "completed"
    },
    "tags": []
   },
   "outputs": [],
   "source": [
    "data = pd.concat([train, test], sort = False)\n",
    "data[\"Sex\"].replace([\"male\",\"female\"], [0,1],inplace=True)"
   ]
  },
  {
   "cell_type": "code",
   "execution_count": 18,
   "id": "ef9018fd",
   "metadata": {
    "execution": {
     "iopub.execute_input": "2022-01-30T06:57:29.918964Z",
     "iopub.status.busy": "2022-01-30T06:57:29.917869Z",
     "iopub.status.idle": "2022-01-30T06:57:29.925159Z",
     "shell.execute_reply": "2022-01-30T06:57:29.925685Z",
     "shell.execute_reply.started": "2021-11-18T14:35:33.319536Z"
    },
    "papermill": {
     "duration": 0.055867,
     "end_time": "2022-01-30T06:57:29.925923",
     "exception": false,
     "start_time": "2022-01-30T06:57:29.870056",
     "status": "completed"
    },
    "tags": []
   },
   "outputs": [],
   "source": [
    "data[\"FamilySize\"] = data[\"Parch\"] + data[\"SibSp\"] + 1\n",
    "train[\"FamilySize\"] = data[\"FamilySize\"][:len(train)]\n",
    "test[\"FamilySize\"] = data[\"FamilySize\"][len(train):]"
   ]
  },
  {
   "cell_type": "code",
   "execution_count": 19,
   "id": "2655ac4e",
   "metadata": {
    "execution": {
     "iopub.execute_input": "2022-01-30T06:57:30.015572Z",
     "iopub.status.busy": "2022-01-30T06:57:30.014827Z",
     "iopub.status.idle": "2022-01-30T06:57:30.338835Z",
     "shell.execute_reply": "2022-01-30T06:57:30.339375Z",
     "shell.execute_reply.started": "2021-11-18T14:35:33.330528Z"
    },
    "papermill": {
     "duration": 0.370584,
     "end_time": "2022-01-30T06:57:30.339554",
     "exception": false,
     "start_time": "2022-01-30T06:57:29.968970",
     "status": "completed"
    },
    "tags": []
   },
   "outputs": [
    {
     "data": {
      "text/plain": [
       "<AxesSubplot:xlabel='FamilySize', ylabel='count'>"
      ]
     },
     "execution_count": 19,
     "metadata": {},
     "output_type": "execute_result"
    },
    {
     "data": {
      "image/png": "[encoded data removed]",
      "text/plain": [
       "<Figure size 432x288 with 1 Axes>"
      ]
     },
     "metadata": {
      "needs_background": "light"
     },
     "output_type": "display_data"
    }
   ],
   "source": [
    "sns.countplot(x=\"FamilySize\", hue=\"Survived\", data=train)"
   ]
  },
  {
   "cell_type": "code",
   "execution_count": 20,
   "id": "39124212",
   "metadata": {
    "execution": {
     "iopub.execute_input": "2022-01-30T06:57:30.494689Z",
     "iopub.status.busy": "2022-01-30T06:57:30.493973Z",
     "iopub.status.idle": "2022-01-30T06:57:30.727511Z",
     "shell.execute_reply": "2022-01-30T06:57:30.728046Z",
     "shell.execute_reply.started": "2021-11-18T14:35:33.646483Z"
    },
    "papermill": {
     "duration": 0.282089,
     "end_time": "2022-01-30T06:57:30.728243",
     "exception": false,
     "start_time": "2022-01-30T06:57:30.446154",
     "status": "completed"
    },
    "tags": []
   },
   "outputs": [
    {
     "data": {
      "text/plain": [
       "<AxesSubplot:xlabel='IsAlone', ylabel='count'>"
      ]
     },
     "execution_count": 20,
     "metadata": {},
     "output_type": "execute_result"
    },
    {
     "data": {
      "image/png": "[encoded data removed]",
      "text/plain": [
       "<Figure size 432x288 with 1 Axes>"
      ]
     },
     "metadata": {
      "needs_background": "light"
     },
     "output_type": "display_data"
    }
   ],
   "source": [
    "data[\"IsAlone\"] = 0\n",
    "data.loc[data[\"FamilySize\"] == 1,\"IsAlone\"] = 1\n",
    "\n",
    "train[\"IsAlone\"] = data[\"IsAlone\"][:len(train)]\n",
    "test[\"IsAlone\"] = data[\"IsAlone\"][len(train):]\n",
    "sns.countplot(x=\"IsAlone\", hue=\"Survived\", data=train)"
   ]
  },
  {
   "cell_type": "code",
   "execution_count": 21,
   "id": "38a7c3ab",
   "metadata": {
    "execution": {
     "iopub.execute_input": "2022-01-30T06:57:30.822118Z",
     "iopub.status.busy": "2022-01-30T06:57:30.821434Z",
     "iopub.status.idle": "2022-01-30T06:57:30.829507Z",
     "shell.execute_reply": "2022-01-30T06:57:30.828962Z",
     "shell.execute_reply.started": "2021-11-18T14:35:33.886032Z"
    },
    "papermill": {
     "duration": 0.056528,
     "end_time": "2022-01-30T06:57:30.829665",
     "exception": false,
     "start_time": "2022-01-30T06:57:30.773137",
     "status": "completed"
    },
    "tags": []
   },
   "outputs": [
    {
     "name": "stdout",
     "output_type": "stream",
     "text": [
      "['PassengerId' 'Survived' 'Pclass' 'Name' 'Sex' 'Age' 'SibSp' 'Parch'\n",
      " 'Ticket' 'Fare' 'Cabin' 'Embarked' 'FamilySize' 'IsAlone' 'LowFare']\n"
     ]
    }
   ],
   "source": [
    "data[\"LowFare\"] = 0\n",
    "data.loc[data[\"Fare\"]<10, \"LowFare\"] = 1\n",
    "print(data.columns.values)"
   ]
  },
  {
   "cell_type": "code",
   "execution_count": 22,
   "id": "1e7fa24a",
   "metadata": {
    "execution": {
     "iopub.execute_input": "2022-01-30T06:57:30.932615Z",
     "iopub.status.busy": "2022-01-30T06:57:30.930372Z",
     "iopub.status.idle": "2022-01-30T06:57:30.946557Z",
     "shell.execute_reply": "2022-01-30T06:57:30.947122Z",
     "shell.execute_reply.started": "2021-11-18T14:35:33.899341Z"
    },
    "papermill": {
     "duration": 0.069435,
     "end_time": "2022-01-30T06:57:30.947325",
     "exception": false,
     "start_time": "2022-01-30T06:57:30.877890",
     "status": "completed"
    },
    "tags": []
   },
   "outputs": [
    {
     "data": {
      "text/html": [
       "<div>\n",
       "<style scoped>\n",
       "    .dataframe tbody tr th:only-of-type {\n",
       "        vertical-align: middle;\n",
       "    }\n",
       "\n",
       "    .dataframe tbody tr th {\n",
       "        vertical-align: top;\n",
       "    }\n",
       "\n",
       "    .dataframe thead th {\n",
       "        text-align: right;\n",
       "    }\n",
       "</style>\n",
       "<table border=\"1\" class=\"dataframe\">\n",
       "  <thead>\n",
       "    <tr style=\"text-align: right;\">\n",
       "      <th></th>\n",
       "      <th>PassengerId</th>\n",
       "      <th>Survived</th>\n",
       "      <th>Pclass</th>\n",
       "      <th>Name</th>\n",
       "      <th>Sex</th>\n",
       "      <th>Age</th>\n",
       "      <th>SibSp</th>\n",
       "      <th>Parch</th>\n",
       "      <th>Ticket</th>\n",
       "      <th>Fare</th>\n",
       "      <th>Cabin</th>\n",
       "      <th>Embarked</th>\n",
       "      <th>FamilySize</th>\n",
       "      <th>IsAlone</th>\n",
       "      <th>LowFare</th>\n",
       "    </tr>\n",
       "  </thead>\n",
       "  <tbody>\n",
       "    <tr>\n",
       "      <th>0</th>\n",
       "      <td>1</td>\n",
       "      <td>0.0</td>\n",
       "      <td>3</td>\n",
       "      <td>Braund, Mr. Owen Harris</td>\n",
       "      <td>0</td>\n",
       "      <td>22.0</td>\n",
       "      <td>1</td>\n",
       "      <td>0</td>\n",
       "      <td>A/5 21171</td>\n",
       "      <td>7.2500</td>\n",
       "      <td>NaN</td>\n",
       "      <td>S</td>\n",
       "      <td>2</td>\n",
       "      <td>0</td>\n",
       "      <td>1</td>\n",
       "    </tr>\n",
       "    <tr>\n",
       "      <th>1</th>\n",
       "      <td>2</td>\n",
       "      <td>1.0</td>\n",
       "      <td>1</td>\n",
       "      <td>Cumings, Mrs. John Bradley (Florence Briggs Th...</td>\n",
       "      <td>1</td>\n",
       "      <td>38.0</td>\n",
       "      <td>1</td>\n",
       "      <td>0</td>\n",
       "      <td>PC 17599</td>\n",
       "      <td>71.2833</td>\n",
       "      <td>C85</td>\n",
       "      <td>C</td>\n",
       "      <td>2</td>\n",
       "      <td>0</td>\n",
       "      <td>0</td>\n",
       "    </tr>\n",
       "    <tr>\n",
       "      <th>2</th>\n",
       "      <td>3</td>\n",
       "      <td>1.0</td>\n",
       "      <td>3</td>\n",
       "      <td>Heikkinen, Miss. Laina</td>\n",
       "      <td>1</td>\n",
       "      <td>26.0</td>\n",
       "      <td>0</td>\n",
       "      <td>0</td>\n",
       "      <td>STON/O2. 3101282</td>\n",
       "      <td>7.9250</td>\n",
       "      <td>NaN</td>\n",
       "      <td>S</td>\n",
       "      <td>1</td>\n",
       "      <td>1</td>\n",
       "      <td>1</td>\n",
       "    </tr>\n",
       "    <tr>\n",
       "      <th>3</th>\n",
       "      <td>4</td>\n",
       "      <td>1.0</td>\n",
       "      <td>1</td>\n",
       "      <td>Futrelle, Mrs. Jacques Heath (Lily May Peel)</td>\n",
       "      <td>1</td>\n",
       "      <td>35.0</td>\n",
       "      <td>1</td>\n",
       "      <td>0</td>\n",
       "      <td>113803</td>\n",
       "      <td>53.1000</td>\n",
       "      <td>C123</td>\n",
       "      <td>S</td>\n",
       "      <td>2</td>\n",
       "      <td>0</td>\n",
       "      <td>0</td>\n",
       "    </tr>\n",
       "    <tr>\n",
       "      <th>4</th>\n",
       "      <td>5</td>\n",
       "      <td>0.0</td>\n",
       "      <td>3</td>\n",
       "      <td>Allen, Mr. William Henry</td>\n",
       "      <td>0</td>\n",
       "      <td>35.0</td>\n",
       "      <td>0</td>\n",
       "      <td>0</td>\n",
       "      <td>373450</td>\n",
       "      <td>8.0500</td>\n",
       "      <td>NaN</td>\n",
       "      <td>S</td>\n",
       "      <td>1</td>\n",
       "      <td>1</td>\n",
       "      <td>1</td>\n",
       "    </tr>\n",
       "  </tbody>\n",
       "</table>\n",
       "</div>"
      ],
      "text/plain": [
       "   PassengerId  Survived  Pclass  \\\n",
       "0            1       0.0       3   \n",
       "1            2       1.0       1   \n",
       "2            3       1.0       3   \n",
       "3            4       1.0       1   \n",
       "4            5       0.0       3   \n",
       "\n",
       "                                                Name  Sex   Age  SibSp  Parch  \\\n",
       "0                            Braund, Mr. Owen Harris    0  22.0      1      0   \n",
       "1  Cumings, Mrs. John Bradley (Florence Briggs Th...    1  38.0      1      0   \n",
       "2                             Heikkinen, Miss. Laina    1  26.0      0      0   \n",
       "3       Futrelle, Mrs. Jacques Heath (Lily May Peel)    1  35.0      1      0   \n",
       "4                           Allen, Mr. William Henry    0  35.0      0      0   \n",
       "\n",
       "             Ticket     Fare Cabin Embarked  FamilySize  IsAlone  LowFare  \n",
       "0         A/5 21171   7.2500   NaN        S           2        0        1  \n",
       "1          PC 17599  71.2833   C85        C           2        0        0  \n",
       "2  STON/O2. 3101282   7.9250   NaN        S           1        1        1  \n",
       "3            113803  53.1000  C123        S           2        0        0  \n",
       "4            373450   8.0500   NaN        S           1        1        1  "
      ]
     },
     "execution_count": 22,
     "metadata": {},
     "output_type": "execute_result"
    }
   ],
   "source": [
    "data.head()"
   ]
  },
  {
   "cell_type": "code",
   "execution_count": 23,
   "id": "409e686a",
   "metadata": {
    "execution": {
     "iopub.execute_input": "2022-01-30T06:57:31.045641Z",
     "iopub.status.busy": "2022-01-30T06:57:31.044937Z",
     "iopub.status.idle": "2022-01-30T06:57:31.055398Z",
     "shell.execute_reply": "2022-01-30T06:57:31.054810Z",
     "shell.execute_reply.started": "2021-11-18T14:35:33.933632Z"
    },
    "papermill": {
     "duration": 0.061047,
     "end_time": "2022-01-30T06:57:31.055565",
     "exception": false,
     "start_time": "2022-01-30T06:57:30.994518",
     "status": "completed"
    },
    "tags": []
   },
   "outputs": [
    {
     "data": {
      "text/plain": [
       "PassengerId       0\n",
       "Survived        418\n",
       "Pclass            0\n",
       "Name              0\n",
       "Sex               0\n",
       "Age             263\n",
       "SibSp             0\n",
       "Parch             0\n",
       "Ticket            0\n",
       "Fare              1\n",
       "Cabin          1014\n",
       "Embarked          2\n",
       "FamilySize        0\n",
       "IsAlone           0\n",
       "LowFare           0\n",
       "dtype: int64"
      ]
     },
     "execution_count": 23,
     "metadata": {},
     "output_type": "execute_result"
    }
   ],
   "source": [
    "data.isnull().sum()"
   ]
  },
  {
   "cell_type": "code",
   "execution_count": 24,
   "id": "6fbf3f39",
   "metadata": {
    "execution": {
     "iopub.execute_input": "2022-01-30T06:57:31.156476Z",
     "iopub.status.busy": "2022-01-30T06:57:31.155657Z",
     "iopub.status.idle": "2022-01-30T06:57:31.161190Z",
     "shell.execute_reply": "2022-01-30T06:57:31.160616Z",
     "shell.execute_reply.started": "2021-11-18T14:35:33.948539Z"
    },
    "papermill": {
     "duration": 0.055315,
     "end_time": "2022-01-30T06:57:31.161390",
     "exception": false,
     "start_time": "2022-01-30T06:57:31.106075",
     "status": "completed"
    },
    "tags": []
   },
   "outputs": [],
   "source": [
    "data[\"Fare\"].fillna(np.mean(data[\"Fare\"]), inplace=True)"
   ]
  },
  {
   "cell_type": "code",
   "execution_count": 25,
   "id": "f76866e2",
   "metadata": {
    "execution": {
     "iopub.execute_input": "2022-01-30T06:57:31.264041Z",
     "iopub.status.busy": "2022-01-30T06:57:31.263315Z",
     "iopub.status.idle": "2022-01-30T06:57:31.273672Z",
     "shell.execute_reply": "2022-01-30T06:57:31.274309Z",
     "shell.execute_reply.started": "2021-11-18T14:35:33.956647Z"
    },
    "papermill": {
     "duration": 0.064948,
     "end_time": "2022-01-30T06:57:31.274501",
     "exception": false,
     "start_time": "2022-01-30T06:57:31.209553",
     "status": "completed"
    },
    "tags": []
   },
   "outputs": [
    {
     "data": {
      "text/plain": [
       "PassengerId       0\n",
       "Survived        418\n",
       "Pclass            0\n",
       "Name              0\n",
       "Sex               0\n",
       "Age             263\n",
       "SibSp             0\n",
       "Parch             0\n",
       "Ticket            0\n",
       "Fare              0\n",
       "Cabin          1014\n",
       "Embarked          2\n",
       "FamilySize        0\n",
       "IsAlone           0\n",
       "LowFare           0\n",
       "dtype: int64"
      ]
     },
     "execution_count": 25,
     "metadata": {},
     "output_type": "execute_result"
    }
   ],
   "source": [
    "data.isnull().sum()"
   ]
  },
  {
   "cell_type": "code",
   "execution_count": 26,
   "id": "7aea9ba4",
   "metadata": {
    "execution": {
     "iopub.execute_input": "2022-01-30T06:57:31.372460Z",
     "iopub.status.busy": "2022-01-30T06:57:31.371693Z",
     "iopub.status.idle": "2022-01-30T06:57:31.592967Z",
     "shell.execute_reply": "2022-01-30T06:57:31.592382Z",
     "shell.execute_reply.started": "2021-11-18T14:35:33.978492Z"
    },
    "papermill": {
     "duration": 0.271436,
     "end_time": "2022-01-30T06:57:31.593115",
     "exception": false,
     "start_time": "2022-01-30T06:57:31.321679",
     "status": "completed"
    },
    "tags": []
   },
   "outputs": [
    {
     "data": {
      "image/png": "[encoded data removed]",
      "text/plain": [
       "<Figure size 432x288 with 1 Axes>"
      ]
     },
     "metadata": {
      "needs_background": "light"
     },
     "output_type": "display_data"
    }
   ],
   "source": [
    "data[\"Embarked\"].hist()\n",
    "data[\"Embarked\"].fillna(\"S\", inplace=True)\n",
    "data[\"Embarked\"] = data[\"Embarked\"].map({\"S\":0, \"C\":1, \"Q\":2}).astype(int)"
   ]
  },
  {
   "cell_type": "code",
   "execution_count": 27,
   "id": "a9acf95c",
   "metadata": {
    "execution": {
     "iopub.execute_input": "2022-01-30T06:57:31.696794Z",
     "iopub.status.busy": "2022-01-30T06:57:31.695039Z",
     "iopub.status.idle": "2022-01-30T06:57:31.699632Z",
     "shell.execute_reply": "2022-01-30T06:57:31.698939Z",
     "shell.execute_reply.started": "2021-11-18T14:35:34.18648Z"
    },
    "papermill": {
     "duration": 0.058979,
     "end_time": "2022-01-30T06:57:31.699796",
     "exception": false,
     "start_time": "2022-01-30T06:57:31.640817",
     "status": "completed"
    },
    "tags": []
   },
   "outputs": [],
   "source": [
    "age_avg = data[\"Age\"].mean()\n",
    "age_std = data[\"Age\"].std()\n",
    "data[\"Age\"].fillna(data[\"Age\"].median(), inplace=True)\n",
    "data[\"Fare\"].fillna(data[\"Fare\"].mean(), inplace=True)"
   ]
  },
  {
   "cell_type": "code",
   "execution_count": 28,
   "id": "85d326e5",
   "metadata": {
    "execution": {
     "iopub.execute_input": "2022-01-30T06:57:31.799584Z",
     "iopub.status.busy": "2022-01-30T06:57:31.798806Z",
     "iopub.status.idle": "2022-01-30T06:57:31.804463Z",
     "shell.execute_reply": "2022-01-30T06:57:31.805013Z",
     "shell.execute_reply.started": "2021-11-18T14:35:34.195854Z"
    },
    "papermill": {
     "duration": 0.057345,
     "end_time": "2022-01-30T06:57:31.805196",
     "exception": false,
     "start_time": "2022-01-30T06:57:31.747851",
     "status": "completed"
    },
    "tags": []
   },
   "outputs": [],
   "source": [
    "delete_columns = [\"Name\", \"PassengerId\", \"SibSp\", \"Parch\", \"Ticket\", \"Cabin\"]\n",
    "# data_ = \n",
    "data.drop(delete_columns, axis=1, inplace=True)\n",
    "# print(data_.columns.values)"
   ]
  },
  {
   "cell_type": "code",
   "execution_count": 29,
   "id": "f75c4207",
   "metadata": {
    "execution": {
     "iopub.execute_input": "2022-01-30T06:57:31.908791Z",
     "iopub.status.busy": "2022-01-30T06:57:31.908037Z",
     "iopub.status.idle": "2022-01-30T06:57:31.911347Z",
     "shell.execute_reply": "2022-01-30T06:57:31.910530Z",
     "shell.execute_reply.started": "2021-11-18T14:35:34.212547Z"
    },
    "papermill": {
     "duration": 0.057095,
     "end_time": "2022-01-30T06:57:31.911524",
     "exception": false,
     "start_time": "2022-01-30T06:57:31.854429",
     "status": "completed"
    },
    "tags": []
   },
   "outputs": [],
   "source": [
    "train = data[:len(train)]\n",
    "test = data[len(train):]"
   ]
  },
  {
   "cell_type": "code",
   "execution_count": 30,
   "id": "0b0c84fc",
   "metadata": {
    "execution": {
     "iopub.execute_input": "2022-01-30T06:57:32.015727Z",
     "iopub.status.busy": "2022-01-30T06:57:32.014805Z",
     "iopub.status.idle": "2022-01-30T06:57:32.017762Z",
     "shell.execute_reply": "2022-01-30T06:57:32.017202Z",
     "shell.execute_reply.started": "2021-11-18T14:35:34.226848Z"
    },
    "papermill": {
     "duration": 0.057605,
     "end_time": "2022-01-30T06:57:32.017929",
     "exception": false,
     "start_time": "2022-01-30T06:57:31.960324",
     "status": "completed"
    },
    "tags": []
   },
   "outputs": [],
   "source": [
    "y_train = train[\"Survived\"]\n",
    "x_train = train.drop(\"Survived\", axis=1)\n",
    "x_test = test.drop(\"Survived\", axis=1)"
   ]
  },
  {
   "cell_type": "code",
   "execution_count": 31,
   "id": "f20c6f12",
   "metadata": {
    "execution": {
     "iopub.execute_input": "2022-01-30T06:57:32.119157Z",
     "iopub.status.busy": "2022-01-30T06:57:32.118489Z",
     "iopub.status.idle": "2022-01-30T06:57:32.121504Z",
     "shell.execute_reply": "2022-01-30T06:57:32.120947Z",
     "shell.execute_reply.started": "2021-11-18T14:35:34.243491Z"
    },
    "papermill": {
     "duration": 0.054832,
     "end_time": "2022-01-30T06:57:32.121666",
     "exception": false,
     "start_time": "2022-01-30T06:57:32.066834",
     "status": "completed"
    },
    "tags": []
   },
   "outputs": [],
   "source": [
    "# train.profile_report()"
   ]
  },
  {
   "cell_type": "code",
   "execution_count": 32,
   "id": "3fa4dfef",
   "metadata": {
    "execution": {
     "iopub.execute_input": "2022-01-30T06:57:32.221421Z",
     "iopub.status.busy": "2022-01-30T06:57:32.220678Z",
     "iopub.status.idle": "2022-01-30T06:57:32.223326Z",
     "shell.execute_reply": "2022-01-30T06:57:32.223858Z",
     "shell.execute_reply.started": "2021-11-18T14:35:34.253294Z"
    },
    "papermill": {
     "duration": 0.054471,
     "end_time": "2022-01-30T06:57:32.224039",
     "exception": false,
     "start_time": "2022-01-30T06:57:32.169568",
     "status": "completed"
    },
    "tags": []
   },
   "outputs": [],
   "source": [
    "# test.profile_report()"
   ]
  },
  {
   "cell_type": "code",
   "execution_count": 33,
   "id": "a8ae18ae",
   "metadata": {
    "execution": {
     "iopub.execute_input": "2022-01-30T06:57:32.325071Z",
     "iopub.status.busy": "2022-01-30T06:57:32.324255Z",
     "iopub.status.idle": "2022-01-30T06:57:32.542351Z",
     "shell.execute_reply": "2022-01-30T06:57:32.542886Z",
     "shell.execute_reply.started": "2021-11-18T14:35:34.270139Z"
    },
    "papermill": {
     "duration": 0.271509,
     "end_time": "2022-01-30T06:57:32.543061",
     "exception": false,
     "start_time": "2022-01-30T06:57:32.271552",
     "status": "completed"
    },
    "tags": []
   },
   "outputs": [
    {
     "name": "stderr",
     "output_type": "stream",
     "text": [
      "/opt/conda/lib/python3.7/site-packages/sklearn/linear_model/_sag.py:330: ConvergenceWarning: The max_iter was reached which means the coef_ did not converge\n",
      "  \"the coef_ did not converge\", ConvergenceWarning)\n"
     ]
    },
    {
     "data": {
      "text/plain": [
       "array([0., 0., 0., 0., 0., 0., 0., 0., 0., 0., 0., 0., 1., 0., 0., 0., 0.,\n",
       "       0., 0., 0., 0., 0., 0., 1., 1., 0., 1., 0., 0., 0., 0., 0., 0., 0.,\n",
       "       1., 0., 0., 0., 0., 0., 0., 0., 0., 0., 0., 0., 0., 0., 0., 0., 1.,\n",
       "       0., 0., 1., 0., 0., 0., 0., 0., 1., 0., 0., 0., 0., 1., 0., 0., 0.,\n",
       "       0., 1., 0., 0., 0., 0., 1., 1., 0., 0., 0., 0., 0., 1., 0., 0., 0.,\n",
       "       0., 0., 0., 0., 0., 0., 0., 0., 0., 0., 0., 0., 0., 0., 0., 0., 0.,\n",
       "       0., 0., 0., 0., 0., 0., 0., 0., 0., 0., 0., 0., 1., 0., 0., 0., 1.,\n",
       "       0., 0., 0., 1., 0., 0., 0., 0., 0., 0., 0., 0., 0., 0., 0., 0., 0.,\n",
       "       0., 0., 0., 0., 0., 1., 1., 0., 0., 0., 1., 0., 0., 0., 1., 0., 0.,\n",
       "       0., 0., 0., 1., 0., 0., 0., 0., 0., 0., 0., 0., 0., 0., 0., 0., 0.,\n",
       "       0., 0., 0., 0., 0., 0., 0., 0., 0., 0., 0., 1., 1., 0., 1., 0., 0.,\n",
       "       0., 0., 0., 0., 0., 0., 0., 0., 0., 1., 0., 0., 0., 0., 0., 1., 0.,\n",
       "       0., 0., 0., 0., 0., 0., 0., 0., 1., 0., 0., 0., 0., 1., 1., 0., 0.,\n",
       "       0., 0., 0., 0., 0., 0., 0., 0., 0., 1., 0., 0., 0., 1., 0., 0., 0.,\n",
       "       0., 1., 0., 0., 1., 0., 0., 0., 0., 0., 0., 0., 0., 0., 1., 0., 0.,\n",
       "       0., 0., 0., 0., 0., 0., 0., 0., 0., 0., 0., 0., 0., 0., 0., 1., 0.,\n",
       "       1., 0., 0., 0., 0., 0., 0., 0., 0., 0., 0., 0., 0., 0., 0., 1., 0.,\n",
       "       0., 0., 0., 0., 0., 0., 0., 1., 0., 0., 0., 0., 0., 0., 0., 0., 0.,\n",
       "       1., 0., 1., 0., 0., 0., 0., 0., 1., 0., 1., 0., 0., 0., 0., 0., 0.,\n",
       "       0., 1., 0., 0., 1., 0., 0., 0., 0., 0., 0., 0., 0., 0., 0., 0., 0.,\n",
       "       0., 0., 0., 1., 0., 0., 0., 0., 0., 0., 0., 0., 1., 0., 0., 0., 0.,\n",
       "       0., 0., 0., 0., 0., 0., 0., 1., 0., 0., 0., 0., 0., 0., 1., 0., 0.,\n",
       "       0., 1., 0., 0., 0., 0., 0., 0., 0., 0., 0., 1., 0., 0., 0., 0., 1.,\n",
       "       0., 0., 0., 0., 1., 0., 1., 0., 0., 1., 0., 1., 1., 0., 0., 0., 1.,\n",
       "       0., 0., 0., 1., 0., 0., 1., 0., 0., 0.])"
      ]
     },
     "execution_count": 33,
     "metadata": {},
     "output_type": "execute_result"
    }
   ],
   "source": [
    "from sklearn.linear_model import LogisticRegression\n",
    "\n",
    "clf = LogisticRegression(penalty=\"l2\",solver=\"sag\", random_state=0)\n",
    "clf.fit(x_train, y_train)\n",
    "y_pred = clf.predict(x_test)\n",
    "y_pred"
   ]
  },
  {
   "cell_type": "code",
   "execution_count": 34,
   "id": "9e6f2ef8",
   "metadata": {
    "execution": {
     "iopub.execute_input": "2022-01-30T06:57:32.646352Z",
     "iopub.status.busy": "2022-01-30T06:57:32.645533Z",
     "iopub.status.idle": "2022-01-30T06:57:32.734888Z",
     "shell.execute_reply": "2022-01-30T06:57:32.734267Z"
    },
    "papermill": {
     "duration": 0.143462,
     "end_time": "2022-01-30T06:57:32.735036",
     "exception": false,
     "start_time": "2022-01-30T06:57:32.591574",
     "status": "completed"
    },
    "tags": []
   },
   "outputs": [],
   "source": [
    "from sklearn import tree\n",
    "target = train[\"Survived\"].values\n",
    "feature = train[[\"Pclass\", \"Sex\", \"Fare\"]].values\n",
    "mytree = tree.DecisionTreeClassifier()\n",
    "mytree = mytree.fit(feature, target)\n",
    "\n",
    "test_features = test[[\"Pclass\", \"Sex\", \"Age\", \"Fare\"]]"
   ]
  },
  {
   "cell_type": "code",
   "execution_count": 35,
   "id": "a0553d36",
   "metadata": {
    "execution": {
     "iopub.execute_input": "2022-01-30T06:57:32.838363Z",
     "iopub.status.busy": "2022-01-30T06:57:32.837621Z",
     "iopub.status.idle": "2022-01-30T06:57:32.850093Z",
     "shell.execute_reply": "2022-01-30T06:57:32.849433Z",
     "shell.execute_reply.started": "2021-11-18T14:35:34.310081Z"
    },
    "papermill": {
     "duration": 0.066603,
     "end_time": "2022-01-30T06:57:32.850304",
     "exception": false,
     "start_time": "2022-01-30T06:57:32.783701",
     "status": "completed"
    },
    "tags": []
   },
   "outputs": [],
   "source": [
    "sub = pd.read_csv(\"../input/titanic/gender_submission.csv\")\n",
    "sub[\"Survived\"] = list(map(int, y_pred))\n",
    "sub.to_csv(\"submission.csv\", index=False)"
   ]
  },
  {
   "cell_type": "code",
   "execution_count": null,
   "id": "39465621",
   "metadata": {
    "papermill": {
     "duration": 0.049026,
     "end_time": "2022-01-30T06:57:32.949903",
     "exception": false,
     "start_time": "2022-01-30T06:57:32.900877",
     "status": "completed"
    },
    "tags": []
   },
   "outputs": [],
   "source": []
  },
  {
   "cell_type": "code",
   "execution_count": null,
   "id": "9dd1a173",
   "metadata": {
    "papermill": {
     "duration": 0.048258,
     "end_time": "2022-01-30T06:57:33.048754",
     "exception": false,
     "start_time": "2022-01-30T06:57:33.000496",
     "status": "completed"
    },
    "tags": []
   },
   "outputs": [],
   "source": []
  },
  {
   "cell_type": "code",
   "execution_count": null,
   "id": "8bb1c53a",
   "metadata": {
    "papermill": {
     "duration": 0.048033,
     "end_time": "2022-01-30T06:57:33.145328",
     "exception": false,
     "start_time": "2022-01-30T06:57:33.097295",
     "status": "completed"
    },
    "tags": []
   },
   "outputs": [],
   "source": []
  }
 ],
 "metadata": {
  "kernelspec": {
   "display_name": "Python 3",
   "language": "python",
   "name": "python3"
  },
  "language_info": {
   "codemirror_mode": {
    "name": "ipython",
    "version": 3
   },
   "file_extension": ".py",
   "mimetype": "text/x-python",
   "name": "python",
   "nbconvert_exporter": "python",
   "pygments_lexer": "ipython3",
   "version": "3.7.10"
  },
  "papermill": {
   "default_parameters": {},
   "duration": 23.254008,
   "end_time": "2022-01-30T06:57:34.205590",
   "environment_variables": {},
   "exception": null,
   "input_path": "__notebook__.ipynb",
   "output_path": "__notebook__.ipynb",
   "parameters": {},
   "start_time": "2022-01-30T06:57:10.951582",
   "version": "2.3.3"
  }
 },
 "nbformat": 4,
 "nbformat_minor": 5
}
